{
 "cells": [
  {
   "cell_type": "markdown",
   "metadata": {},
   "source": [
    "# Loan Fraud application detection"
   ]
  },
  {
   "cell_type": "code",
   "execution_count": 1,
   "metadata": {},
   "outputs": [],
   "source": [
    "# importing required libraries\n",
    "\n",
    "import numpy as np\n",
    "import pandas as pd\n",
    "import matplotlib.pyplot as plt\n",
    "import seaborn as sns\n",
    "import random\n",
    "import warnings\n",
    "warnings.filterwarnings('ignore')\n",
    "from scipy.stats import stats\n",
    "from imblearn.over_sampling import SMOTE\n",
    "from sklearn.preprocessing import StandardScaler\n",
    "from sklearn.model_selection import train_test_split, GridSearchCV\n",
    "import statsmodels.api as sma\n",
    "from sklearn.linear_model import LogisticRegression\n",
    "from sklearn.tree import DecisionTreeClassifier\n",
    "from sklearn.ensemble import RandomForestClassifier, AdaBoostClassifier, GradientBoostingClassifier\n",
    "from sklearn.metrics import confusion_matrix, classification_report, roc_curve, roc_auc_score, accuracy_score, f1_score\n",
    "from pylab import rcParams"
   ]
  },
  {
   "cell_type": "code",
   "execution_count": 2,
   "metadata": {},
   "outputs": [],
   "source": [
    "rcParams['figure.figsize'] = 25,18"
   ]
  },
  {
   "cell_type": "markdown",
   "metadata": {},
   "source": [
    "#### DATA DESCRIPTION: \n",
    "This data set contains 1668 loan_disbursed records and 3377 loan_rejected records. The data set was collected from New York, USA. action_taken is a class label used to divide into two groups (loan_disbursed (1) or loan_rejected(0)).\n",
    "\n",
    "\n",
    " agency_name: loan agency  \n"
   ]
  },
  {
   "cell_type": "markdown",
   "metadata": {},
   "source": [
    "### \tData Understanding"
   ]
  },
  {
   "cell_type": "code",
   "execution_count": 3,
   "metadata": {},
   "outputs": [
    {
     "data": {
      "text/html": [
       "<div>\n",
       "<style scoped>\n",
       "    .dataframe tbody tr th:only-of-type {\n",
       "        vertical-align: middle;\n",
       "    }\n",
       "\n",
       "    .dataframe tbody tr th {\n",
       "        vertical-align: top;\n",
       "    }\n",
       "\n",
       "    .dataframe thead th {\n",
       "        text-align: right;\n",
       "    }\n",
       "</style>\n",
       "<table border=\"1\" class=\"dataframe\">\n",
       "  <thead>\n",
       "    <tr style=\"text-align: right;\">\n",
       "      <th></th>\n",
       "      <th>action_taken</th>\n",
       "      <th>agency_name</th>\n",
       "      <th>applicant_race</th>\n",
       "      <th>applicant_sex</th>\n",
       "      <th>lien_status_name</th>\n",
       "      <th>loan_purpose_name</th>\n",
       "      <th>applicant_annual_income</th>\n",
       "      <th>locality_median_family_income</th>\n",
       "      <th>loan_amount</th>\n",
       "    </tr>\n",
       "  </thead>\n",
       "  <tbody>\n",
       "    <tr>\n",
       "      <th>0</th>\n",
       "      <td>1</td>\n",
       "      <td>HUD</td>\n",
       "      <td>White</td>\n",
       "      <td>Male</td>\n",
       "      <td>Secured by a first lien</td>\n",
       "      <td>Home purchase</td>\n",
       "      <td>121000.0</td>\n",
       "      <td>109000</td>\n",
       "      <td>232000</td>\n",
       "    </tr>\n",
       "    <tr>\n",
       "      <th>1</th>\n",
       "      <td>1</td>\n",
       "      <td>NCUA</td>\n",
       "      <td>White</td>\n",
       "      <td>Female</td>\n",
       "      <td>Secured by a first lien</td>\n",
       "      <td>Home improvement</td>\n",
       "      <td>31000.0</td>\n",
       "      <td>82700</td>\n",
       "      <td>9000</td>\n",
       "    </tr>\n",
       "    <tr>\n",
       "      <th>2</th>\n",
       "      <td>1</td>\n",
       "      <td>CFPB</td>\n",
       "      <td>American Indian or Alaska Native</td>\n",
       "      <td>Male</td>\n",
       "      <td>Secured by a first lien</td>\n",
       "      <td>Home purchase</td>\n",
       "      <td>82000.0</td>\n",
       "      <td>69000</td>\n",
       "      <td>210000</td>\n",
       "    </tr>\n",
       "    <tr>\n",
       "      <th>3</th>\n",
       "      <td>1</td>\n",
       "      <td>HUD</td>\n",
       "      <td>Asian</td>\n",
       "      <td>Male</td>\n",
       "      <td>Secured by a first lien</td>\n",
       "      <td>Refinancing</td>\n",
       "      <td>NaN</td>\n",
       "      <td>82700</td>\n",
       "      <td>178000</td>\n",
       "    </tr>\n",
       "    <tr>\n",
       "      <th>4</th>\n",
       "      <td>1</td>\n",
       "      <td>NCUA</td>\n",
       "      <td>White</td>\n",
       "      <td>Female</td>\n",
       "      <td>Secured by a first lien</td>\n",
       "      <td>Refinancing</td>\n",
       "      <td>83000.0</td>\n",
       "      <td>109000</td>\n",
       "      <td>200000</td>\n",
       "    </tr>\n",
       "  </tbody>\n",
       "</table>\n",
       "</div>"
      ],
      "text/plain": [
       "   action_taken agency_name                    applicant_race applicant_sex  \\\n",
       "0             1         HUD                             White          Male   \n",
       "1             1        NCUA                             White        Female   \n",
       "2             1        CFPB  American Indian or Alaska Native          Male   \n",
       "3             1         HUD                             Asian          Male   \n",
       "4             1        NCUA                             White        Female   \n",
       "\n",
       "          lien_status_name loan_purpose_name  applicant_annual_income  \\\n",
       "0  Secured by a first lien     Home purchase                 121000.0   \n",
       "1  Secured by a first lien  Home improvement                  31000.0   \n",
       "2  Secured by a first lien     Home purchase                  82000.0   \n",
       "3  Secured by a first lien       Refinancing                      NaN   \n",
       "4  Secured by a first lien       Refinancing                  83000.0   \n",
       "\n",
       "   locality_median_family_income  loan_amount  \n",
       "0                         109000       232000  \n",
       "1                          82700         9000  \n",
       "2                          69000       210000  \n",
       "3                          82700       178000  \n",
       "4                         109000       200000  "
      ]
     },
     "execution_count": 3,
     "metadata": {},
     "output_type": "execute_result"
    }
   ],
   "source": [
    "df = pd.read_csv('data_set.csv')\n",
    "df.head()"
   ]
  },
  {
   "cell_type": "markdown",
   "metadata": {},
   "source": [
    " applicant_race: race of the applicant\n",
    "\n",
    " applicant_sex: gender of applicant \n",
    "\n",
    " lien_status_name: A lien gives a creditor the legal right to seize and sell a borrower's collateral property or asset which fails to fulfil a loan or contract obligations. The owner cannot sell the property that is the subject of a lien without the permission of the lien holder\n",
    "\n",
    " loan_purpose_name: Purpose for which loan is required\n",
    "\n",
    " applicant_annual_income: Annual income of applicant is US Dollars\n",
    "\n",
    " locality_median_family_income: Median income of family in the locality where property is located\n",
    "\n",
    " loan_amount: amount for which loan is needed"
   ]
  },
  {
   "cell_type": "code",
   "execution_count": 4,
   "metadata": {},
   "outputs": [
    {
     "name": "stdout",
     "output_type": "stream",
     "text": [
      "<class 'pandas.core.frame.DataFrame'>\n",
      "RangeIndex: 2005 entries, 0 to 2004\n",
      "Data columns (total 9 columns):\n",
      " #   Column                         Non-Null Count  Dtype  \n",
      "---  ------                         --------------  -----  \n",
      " 0   action_taken                   2005 non-null   int64  \n",
      " 1   agency_name                    2005 non-null   object \n",
      " 2   applicant_race                 2005 non-null   object \n",
      " 3   applicant_sex                  2005 non-null   object \n",
      " 4   lien_status_name               2005 non-null   object \n",
      " 5   loan_purpose_name              2005 non-null   object \n",
      " 6   applicant_annual_income        1844 non-null   float64\n",
      " 7   locality_median_family_income  2005 non-null   int64  \n",
      " 8   loan_amount                    2005 non-null   int64  \n",
      "dtypes: float64(1), int64(3), object(5)\n",
      "memory usage: 141.1+ KB\n"
     ]
    }
   ],
   "source": [
    "df.info()"
   ]
  },
  {
   "cell_type": "markdown",
   "metadata": {},
   "source": [
    "- It can be observed that the data consists of 9 columns and 2005 entries.\n",
    "- There are five object columns and four numerical columns\n",
    "- applicant_annula_income variable seems to have null values present."
   ]
  },
  {
   "cell_type": "code",
   "execution_count": 19,
   "metadata": {},
   "outputs": [
    {
     "data": {
      "text/plain": [
       "(1799, 9)"
      ]
     },
     "execution_count": 19,
     "metadata": {},
     "output_type": "execute_result"
    }
   ],
   "source": [
    "df.shape"
   ]
  },
  {
   "cell_type": "code",
   "execution_count": 5,
   "metadata": {},
   "outputs": [
    {
     "data": {
      "text/html": [
       "<div>\n",
       "<style scoped>\n",
       "    .dataframe tbody tr th:only-of-type {\n",
       "        vertical-align: middle;\n",
       "    }\n",
       "\n",
       "    .dataframe tbody tr th {\n",
       "        vertical-align: top;\n",
       "    }\n",
       "\n",
       "    .dataframe thead th {\n",
       "        text-align: right;\n",
       "    }\n",
       "</style>\n",
       "<table border=\"1\" class=\"dataframe\">\n",
       "  <thead>\n",
       "    <tr style=\"text-align: right;\">\n",
       "      <th></th>\n",
       "      <th>action_taken</th>\n",
       "      <th>applicant_annual_income</th>\n",
       "      <th>locality_median_family_income</th>\n",
       "      <th>loan_amount</th>\n",
       "    </tr>\n",
       "  </thead>\n",
       "  <tbody>\n",
       "    <tr>\n",
       "      <th>count</th>\n",
       "      <td>2005.00000</td>\n",
       "      <td>1.844000e+03</td>\n",
       "      <td>2005.000000</td>\n",
       "      <td>2.005000e+03</td>\n",
       "    </tr>\n",
       "    <tr>\n",
       "      <th>mean</th>\n",
       "      <td>0.83192</td>\n",
       "      <td>1.318509e+05</td>\n",
       "      <td>82902.992519</td>\n",
       "      <td>3.188274e+05</td>\n",
       "    </tr>\n",
       "    <tr>\n",
       "      <th>std</th>\n",
       "      <td>0.37403</td>\n",
       "      <td>1.508244e+05</td>\n",
       "      <td>17263.205510</td>\n",
       "      <td>8.580253e+05</td>\n",
       "    </tr>\n",
       "    <tr>\n",
       "      <th>min</th>\n",
       "      <td>0.00000</td>\n",
       "      <td>9.000000e+03</td>\n",
       "      <td>57200.000000</td>\n",
       "      <td>2.000000e+03</td>\n",
       "    </tr>\n",
       "    <tr>\n",
       "      <th>25%</th>\n",
       "      <td>1.00000</td>\n",
       "      <td>6.700000e+04</td>\n",
       "      <td>71300.000000</td>\n",
       "      <td>1.000000e+05</td>\n",
       "    </tr>\n",
       "    <tr>\n",
       "      <th>50%</th>\n",
       "      <td>1.00000</td>\n",
       "      <td>9.800000e+04</td>\n",
       "      <td>71300.000000</td>\n",
       "      <td>2.250000e+05</td>\n",
       "    </tr>\n",
       "    <tr>\n",
       "      <th>75%</th>\n",
       "      <td>1.00000</td>\n",
       "      <td>1.470000e+05</td>\n",
       "      <td>109000.000000</td>\n",
       "      <td>3.700000e+05</td>\n",
       "    </tr>\n",
       "    <tr>\n",
       "      <th>max</th>\n",
       "      <td>1.00000</td>\n",
       "      <td>2.414000e+06</td>\n",
       "      <td>109000.000000</td>\n",
       "      <td>3.185000e+07</td>\n",
       "    </tr>\n",
       "  </tbody>\n",
       "</table>\n",
       "</div>"
      ],
      "text/plain": [
       "       action_taken  applicant_annual_income  locality_median_family_income  \\\n",
       "count    2005.00000             1.844000e+03                    2005.000000   \n",
       "mean        0.83192             1.318509e+05                   82902.992519   \n",
       "std         0.37403             1.508244e+05                   17263.205510   \n",
       "min         0.00000             9.000000e+03                   57200.000000   \n",
       "25%         1.00000             6.700000e+04                   71300.000000   \n",
       "50%         1.00000             9.800000e+04                   71300.000000   \n",
       "75%         1.00000             1.470000e+05                  109000.000000   \n",
       "max         1.00000             2.414000e+06                  109000.000000   \n",
       "\n",
       "        loan_amount  \n",
       "count  2.005000e+03  \n",
       "mean   3.188274e+05  \n",
       "std    8.580253e+05  \n",
       "min    2.000000e+03  \n",
       "25%    1.000000e+05  \n",
       "50%    2.250000e+05  \n",
       "75%    3.700000e+05  \n",
       "max    3.185000e+07  "
      ]
     },
     "execution_count": 5,
     "metadata": {},
     "output_type": "execute_result"
    }
   ],
   "source": [
    "df.describe()"
   ]
  },
  {
   "cell_type": "markdown",
   "metadata": {},
   "source": [
    "- the standard deviation for locality_median_family_income seems to be higher showing a higher significance.\n",
    "- the standard deviation for applicant_annual_income and loan_amount is significantly lower"
   ]
  },
  {
   "cell_type": "code",
   "execution_count": 7,
   "metadata": {},
   "outputs": [
    {
     "data": {
      "text/plain": [
       "1    1668\n",
       "0     337\n",
       "Name: action_taken, dtype: int64"
      ]
     },
     "execution_count": 7,
     "metadata": {},
     "output_type": "execute_result"
    }
   ],
   "source": [
    "# here action taken is the target variable as it displays the class of loan disbursed and rejected\n",
    "\n",
    "df['action_taken'].value_counts()"
   ]
  },
  {
   "cell_type": "code",
   "execution_count": 8,
   "metadata": {},
   "outputs": [
    {
     "data": {
      "text/plain": [
       "action_taken                       0\n",
       "agency_name                        0\n",
       "applicant_race                     0\n",
       "applicant_sex                      0\n",
       "lien_status_name                   0\n",
       "loan_purpose_name                  0\n",
       "applicant_annual_income          161\n",
       "locality_median_family_income      0\n",
       "loan_amount                        0\n",
       "dtype: int64"
      ]
     },
     "execution_count": 8,
     "metadata": {},
     "output_type": "execute_result"
    }
   ],
   "source": [
    "# 1. checking for missing values\n",
    "\n",
    "df.isnull().sum()"
   ]
  },
  {
   "cell_type": "markdown",
   "metadata": {},
   "source": [
    "The variable applicant_annual_income has 161 null values present"
   ]
  },
  {
   "cell_type": "code",
   "execution_count": 9,
   "metadata": {},
   "outputs": [
    {
     "data": {
      "text/plain": [
       "<matplotlib.axes._subplots.AxesSubplot at 0x7f2b65d42dd8>"
      ]
     },
     "execution_count": 9,
     "metadata": {},
     "output_type": "execute_result"
    },
    {
     "data": {
      "image/png": "[encoded data removed]",
      "text/plain": [
       "<Figure size 1800x1296 with 1 Axes>"
      ]
     },
     "metadata": {
      "needs_background": "light"
     },
     "output_type": "display_data"
    }
   ],
   "source": [
    "# checking outliers\n",
    "df.boxplot()"
   ]
  },
  {
   "cell_type": "markdown",
   "metadata": {},
   "source": [
    "Outliers are highly present in the columns applicant_annual_income and loan_amount"
   ]
  },
  {
   "cell_type": "code",
   "execution_count": 10,
   "metadata": {},
   "outputs": [
    {
     "data": {
      "text/plain": [
       "<matplotlib.axes._subplots.AxesSubplot at 0x7f2b6508b978>"
      ]
     },
     "execution_count": 10,
     "metadata": {},
     "output_type": "execute_result"
    },
    {
     "data": {
      "image/png": "[encoded data removed]",
      "text/plain": [
       "<Figure size 1800x1296 with 1 Axes>"
      ]
     },
     "metadata": {},
     "output_type": "display_data"
    }
   ],
   "source": [
    "# for imbalance\n",
    "\n",
    "df['action_taken'].value_counts().plot(kind = 'pie',autopct='%1.2f%%')"
   ]
  },
  {
   "cell_type": "markdown",
   "metadata": {},
   "source": [
    "It is visible that class 0 has 16.81% of weightage in the data displaying a high imbalance of class distribution in the target variable"
   ]
  },
  {
   "cell_type": "markdown",
   "metadata": {},
   "source": [
    "### Data Preparation "
   ]
  },
  {
   "cell_type": "code",
   "execution_count": 11,
   "metadata": {},
   "outputs": [],
   "source": [
    "#for a\n",
    "# for null values\n",
    "# since there are outliers present in the data we'll replace the null values with the median value.\n",
    "\n",
    "df['applicant_annual_income'] = df['applicant_annual_income'].replace(np.nan,df['applicant_annual_income'].median())"
   ]
  },
  {
   "cell_type": "code",
   "execution_count": 12,
   "metadata": {},
   "outputs": [
    {
     "data": {
      "text/plain": [
       "0"
      ]
     },
     "execution_count": 12,
     "metadata": {},
     "output_type": "execute_result"
    }
   ],
   "source": [
    "df['applicant_annual_income'].isnull().sum()"
   ]
  },
  {
   "cell_type": "code",
   "execution_count": 13,
   "metadata": {},
   "outputs": [
    {
     "data": {
      "text/html": [
       "<div>\n",
       "<style scoped>\n",
       "    .dataframe tbody tr th:only-of-type {\n",
       "        vertical-align: middle;\n",
       "    }\n",
       "\n",
       "    .dataframe tbody tr th {\n",
       "        vertical-align: top;\n",
       "    }\n",
       "\n",
       "    .dataframe thead th {\n",
       "        text-align: right;\n",
       "    }\n",
       "</style>\n",
       "<table border=\"1\" class=\"dataframe\">\n",
       "  <thead>\n",
       "    <tr style=\"text-align: right;\">\n",
       "      <th></th>\n",
       "      <th>applicant_annual_income</th>\n",
       "      <th>loan_amount</th>\n",
       "    </tr>\n",
       "  </thead>\n",
       "  <tbody>\n",
       "    <tr>\n",
       "      <th>0</th>\n",
       "      <td>121000.0</td>\n",
       "      <td>232000</td>\n",
       "    </tr>\n",
       "    <tr>\n",
       "      <th>1</th>\n",
       "      <td>31000.0</td>\n",
       "      <td>9000</td>\n",
       "    </tr>\n",
       "    <tr>\n",
       "      <th>2</th>\n",
       "      <td>82000.0</td>\n",
       "      <td>210000</td>\n",
       "    </tr>\n",
       "    <tr>\n",
       "      <th>3</th>\n",
       "      <td>98000.0</td>\n",
       "      <td>178000</td>\n",
       "    </tr>\n",
       "    <tr>\n",
       "      <th>4</th>\n",
       "      <td>83000.0</td>\n",
       "      <td>200000</td>\n",
       "    </tr>\n",
       "  </tbody>\n",
       "</table>\n",
       "</div>"
      ],
      "text/plain": [
       "   applicant_annual_income  loan_amount\n",
       "0                 121000.0       232000\n",
       "1                  31000.0         9000\n",
       "2                  82000.0       210000\n",
       "3                  98000.0       178000\n",
       "4                  83000.0       200000"
      ]
     },
     "execution_count": 13,
     "metadata": {},
     "output_type": "execute_result"
    }
   ],
   "source": [
    "# for outliers\n",
    "# selecting the columns that have outliers present in them\n",
    "\n",
    "df_out = df[['applicant_annual_income','loan_amount']]\n",
    "df_out.head()"
   ]
  },
  {
   "cell_type": "code",
   "execution_count": 14,
   "metadata": {},
   "outputs": [],
   "source": [
    "# performing outlier treatment on the same\n",
    "# since the outliers are present only above the upper whisker we'll consider only the upperlimit for outlier treatment\n",
    "\n",
    "q3 = df_out.quantile(0.75)\n",
    "q1 = df_out.quantile(0.25)\n",
    "\n",
    "iqr = q3-q1\n",
    "\n",
    "ul = q3 + 1.5*iqr\n",
    "\n",
    "df_outliers = df_out[~(df_out > ul).any(axis=1)].index"
   ]
  },
  {
   "cell_type": "code",
   "execution_count": 15,
   "metadata": {},
   "outputs": [
    {
     "data": {
      "text/html": [
       "<div>\n",
       "<style scoped>\n",
       "    .dataframe tbody tr th:only-of-type {\n",
       "        vertical-align: middle;\n",
       "    }\n",
       "\n",
       "    .dataframe tbody tr th {\n",
       "        vertical-align: top;\n",
       "    }\n",
       "\n",
       "    .dataframe thead th {\n",
       "        text-align: right;\n",
       "    }\n",
       "</style>\n",
       "<table border=\"1\" class=\"dataframe\">\n",
       "  <thead>\n",
       "    <tr style=\"text-align: right;\">\n",
       "      <th></th>\n",
       "      <th>action_taken</th>\n",
       "      <th>agency_name</th>\n",
       "      <th>applicant_race</th>\n",
       "      <th>applicant_sex</th>\n",
       "      <th>lien_status_name</th>\n",
       "      <th>loan_purpose_name</th>\n",
       "      <th>applicant_annual_income</th>\n",
       "      <th>locality_median_family_income</th>\n",
       "      <th>loan_amount</th>\n",
       "    </tr>\n",
       "  </thead>\n",
       "  <tbody>\n",
       "    <tr>\n",
       "      <th>0</th>\n",
       "      <td>1</td>\n",
       "      <td>HUD</td>\n",
       "      <td>White</td>\n",
       "      <td>Male</td>\n",
       "      <td>Secured by a first lien</td>\n",
       "      <td>Home purchase</td>\n",
       "      <td>121000.0</td>\n",
       "      <td>109000</td>\n",
       "      <td>232000</td>\n",
       "    </tr>\n",
       "    <tr>\n",
       "      <th>1</th>\n",
       "      <td>1</td>\n",
       "      <td>NCUA</td>\n",
       "      <td>White</td>\n",
       "      <td>Female</td>\n",
       "      <td>Secured by a first lien</td>\n",
       "      <td>Home improvement</td>\n",
       "      <td>31000.0</td>\n",
       "      <td>82700</td>\n",
       "      <td>9000</td>\n",
       "    </tr>\n",
       "    <tr>\n",
       "      <th>2</th>\n",
       "      <td>1</td>\n",
       "      <td>CFPB</td>\n",
       "      <td>American Indian or Alaska Native</td>\n",
       "      <td>Male</td>\n",
       "      <td>Secured by a first lien</td>\n",
       "      <td>Home purchase</td>\n",
       "      <td>82000.0</td>\n",
       "      <td>69000</td>\n",
       "      <td>210000</td>\n",
       "    </tr>\n",
       "    <tr>\n",
       "      <th>3</th>\n",
       "      <td>1</td>\n",
       "      <td>HUD</td>\n",
       "      <td>Asian</td>\n",
       "      <td>Male</td>\n",
       "      <td>Secured by a first lien</td>\n",
       "      <td>Refinancing</td>\n",
       "      <td>98000.0</td>\n",
       "      <td>82700</td>\n",
       "      <td>178000</td>\n",
       "    </tr>\n",
       "    <tr>\n",
       "      <th>4</th>\n",
       "      <td>1</td>\n",
       "      <td>NCUA</td>\n",
       "      <td>White</td>\n",
       "      <td>Female</td>\n",
       "      <td>Secured by a first lien</td>\n",
       "      <td>Refinancing</td>\n",
       "      <td>83000.0</td>\n",
       "      <td>109000</td>\n",
       "      <td>200000</td>\n",
       "    </tr>\n",
       "  </tbody>\n",
       "</table>\n",
       "</div>"
      ],
      "text/plain": [
       "   action_taken agency_name                    applicant_race applicant_sex  \\\n",
       "0             1         HUD                             White          Male   \n",
       "1             1        NCUA                             White        Female   \n",
       "2             1        CFPB  American Indian or Alaska Native          Male   \n",
       "3             1         HUD                             Asian          Male   \n",
       "4             1        NCUA                             White        Female   \n",
       "\n",
       "          lien_status_name loan_purpose_name  applicant_annual_income  \\\n",
       "0  Secured by a first lien     Home purchase                 121000.0   \n",
       "1  Secured by a first lien  Home improvement                  31000.0   \n",
       "2  Secured by a first lien     Home purchase                  82000.0   \n",
       "3  Secured by a first lien       Refinancing                  98000.0   \n",
       "4  Secured by a first lien       Refinancing                  83000.0   \n",
       "\n",
       "   locality_median_family_income  loan_amount  \n",
       "0                         109000       232000  \n",
       "1                          82700         9000  \n",
       "2                          69000       210000  \n",
       "3                          82700       178000  \n",
       "4                         109000       200000  "
      ]
     },
     "execution_count": 15,
     "metadata": {},
     "output_type": "execute_result"
    }
   ],
   "source": [
    "# reassigning the values after outlier treatment in the dataframe\n",
    "\n",
    "df = df.iloc[df_outliers]\n",
    "df.head()"
   ]
  },
  {
   "cell_type": "code",
   "execution_count": 20,
   "metadata": {},
   "outputs": [
    {
     "data": {
      "text/plain": [
       "<matplotlib.axes._subplots.AxesSubplot at 0x7f2b64548080>"
      ]
     },
     "execution_count": 20,
     "metadata": {},
     "output_type": "execute_result"
    },
    {
     "data": {
      "image/png": "[encoded data removed]",
      "text/plain": [
       "<Figure size 1800x1296 with 2 Axes>"
      ]
     },
     "metadata": {
      "needs_background": "light"
     },
     "output_type": "display_data"
    }
   ],
   "source": [
    "sns.heatmap(df.corr(),annot = True)"
   ]
  },
  {
   "cell_type": "code",
   "execution_count": 18,
   "metadata": {},
   "outputs": [
    {
     "data": {
      "text/plain": [
       "530"
      ]
     },
     "execution_count": 18,
     "metadata": {},
     "output_type": "execute_result"
    }
   ],
   "source": [
    "df['loan_amount'].nunique()"
   ]
  },
  {
   "cell_type": "markdown",
   "metadata": {},
   "source": [
    "- although loan_amount column seems to have a high number of unique values it displays a somewhat good correlation with the target variable at 0.24\n",
    "- all the other columns as well have a pretty moderate correlation with the target variable\n",
    "- hence it's been decided to not drop any numerical columns on the data."
   ]
  },
  {
   "cell_type": "code",
   "execution_count": 6,
   "metadata": {},
   "outputs": [
    {
     "data": {
      "text/html": [
       "<div>\n",
       "<style scoped>\n",
       "    .dataframe tbody tr th:only-of-type {\n",
       "        vertical-align: middle;\n",
       "    }\n",
       "\n",
       "    .dataframe tbody tr th {\n",
       "        vertical-align: top;\n",
       "    }\n",
       "\n",
       "    .dataframe thead th {\n",
       "        text-align: right;\n",
       "    }\n",
       "</style>\n",
       "<table border=\"1\" class=\"dataframe\">\n",
       "  <thead>\n",
       "    <tr style=\"text-align: right;\">\n",
       "      <th></th>\n",
       "      <th>agency_name</th>\n",
       "      <th>applicant_race</th>\n",
       "      <th>applicant_sex</th>\n",
       "      <th>lien_status_name</th>\n",
       "      <th>loan_purpose_name</th>\n",
       "    </tr>\n",
       "  </thead>\n",
       "  <tbody>\n",
       "    <tr>\n",
       "      <th>count</th>\n",
       "      <td>2005</td>\n",
       "      <td>2005</td>\n",
       "      <td>2005</td>\n",
       "      <td>2005</td>\n",
       "      <td>2005</td>\n",
       "    </tr>\n",
       "    <tr>\n",
       "      <th>unique</th>\n",
       "      <td>6</td>\n",
       "      <td>7</td>\n",
       "      <td>4</td>\n",
       "      <td>3</td>\n",
       "      <td>3</td>\n",
       "    </tr>\n",
       "    <tr>\n",
       "      <th>top</th>\n",
       "      <td>CFPB</td>\n",
       "      <td>White</td>\n",
       "      <td>Male</td>\n",
       "      <td>Secured by a first lien</td>\n",
       "      <td>Home purchase</td>\n",
       "    </tr>\n",
       "    <tr>\n",
       "      <th>freq</th>\n",
       "      <td>690</td>\n",
       "      <td>1412</td>\n",
       "      <td>1199</td>\n",
       "      <td>1731</td>\n",
       "      <td>989</td>\n",
       "    </tr>\n",
       "  </tbody>\n",
       "</table>\n",
       "</div>"
      ],
      "text/plain": [
       "       agency_name applicant_race applicant_sex         lien_status_name  \\\n",
       "count         2005           2005          2005                     2005   \n",
       "unique           6              7             4                        3   \n",
       "top           CFPB          White          Male  Secured by a first lien   \n",
       "freq           690           1412          1199                     1731   \n",
       "\n",
       "       loan_purpose_name  \n",
       "count               2005  \n",
       "unique                 3  \n",
       "top        Home purchase  \n",
       "freq                 989  "
      ]
     },
     "execution_count": 6,
     "metadata": {},
     "output_type": "execute_result"
    }
   ],
   "source": [
    "df.describe(include = 'object')"
   ]
  },
  {
   "cell_type": "code",
   "execution_count": 21,
   "metadata": {},
   "outputs": [
    {
     "data": {
      "text/plain": [
       "array(['Male', 'Female', 'Information not provided', 'Not applicable'],\n",
       "      dtype=object)"
      ]
     },
     "execution_count": 21,
     "metadata": {},
     "output_type": "execute_result"
    }
   ],
   "source": [
    "df['applicant_sex'].unique()"
   ]
  },
  {
   "cell_type": "code",
   "execution_count": 43,
   "metadata": {},
   "outputs": [
    {
     "data": {
      "text/plain": [
       "array(['White', 'American Indian or Alaska Native', 'Asian',\n",
       "       'Information not provided', 'Black or African American',\n",
       "       'Not applicable', 'Native Hawaiian or Other Pacific Islander'],\n",
       "      dtype=object)"
      ]
     },
     "execution_count": 43,
     "metadata": {},
     "output_type": "execute_result"
    }
   ],
   "source": [
    "df['applicant_race'].unique()"
   ]
  },
  {
   "cell_type": "code",
   "execution_count": 45,
   "metadata": {},
   "outputs": [
    {
     "data": {
      "text/plain": [
       "White                                        1283\n",
       "Information not provided                      192\n",
       "Black or African American                     151\n",
       "Asian                                         134\n",
       "Not applicable                                 21\n",
       "American Indian or Alaska Native               12\n",
       "Native Hawaiian or Other Pacific Islander       6\n",
       "Name: applicant_race, dtype: int64"
      ]
     },
     "execution_count": 45,
     "metadata": {},
     "output_type": "execute_result"
    }
   ],
   "source": [
    "df['applicant_race'].value_counts()"
   ]
  },
  {
   "cell_type": "markdown",
   "metadata": {},
   "source": [
    "- The categorical columns here do havea significant unique values that seem to provide information which would be helpful from a business perspective.\n",
    "- Since applicant_sex,applicant_race variables seems to have entries with ambiguous information, it's been decided to drop the columns.\n"
   ]
  },
  {
   "cell_type": "code",
   "execution_count": 22,
   "metadata": {},
   "outputs": [],
   "source": [
    "df.drop('applicant_sex',axis = 1, inplace = True)"
   ]
  },
  {
   "cell_type": "code",
   "execution_count": 47,
   "metadata": {},
   "outputs": [],
   "source": [
    "df.drop('applicant_race',axis = 1, inplace = True)"
   ]
  },
  {
   "cell_type": "code",
   "execution_count": 48,
   "metadata": {},
   "outputs": [
    {
     "data": {
      "text/html": [
       "<div>\n",
       "<style scoped>\n",
       "    .dataframe tbody tr th:only-of-type {\n",
       "        vertical-align: middle;\n",
       "    }\n",
       "\n",
       "    .dataframe tbody tr th {\n",
       "        vertical-align: top;\n",
       "    }\n",
       "\n",
       "    .dataframe thead th {\n",
       "        text-align: right;\n",
       "    }\n",
       "</style>\n",
       "<table border=\"1\" class=\"dataframe\">\n",
       "  <thead>\n",
       "    <tr style=\"text-align: right;\">\n",
       "      <th></th>\n",
       "      <th>action_taken</th>\n",
       "      <th>applicant_annual_income</th>\n",
       "      <th>locality_median_family_income</th>\n",
       "      <th>loan_amount</th>\n",
       "      <th>agency_name_FDIC</th>\n",
       "      <th>agency_name_FRS</th>\n",
       "      <th>agency_name_HUD</th>\n",
       "      <th>agency_name_NCUA</th>\n",
       "      <th>agency_name_OCC</th>\n",
       "      <th>lien_status_name_Secured by a first lien</th>\n",
       "      <th>lien_status_name_Secured by a subordinate lien</th>\n",
       "      <th>loan_purpose_name_Home purchase</th>\n",
       "      <th>loan_purpose_name_Refinancing</th>\n",
       "    </tr>\n",
       "  </thead>\n",
       "  <tbody>\n",
       "    <tr>\n",
       "      <th>0</th>\n",
       "      <td>1</td>\n",
       "      <td>121000.0</td>\n",
       "      <td>109000</td>\n",
       "      <td>232000</td>\n",
       "      <td>0</td>\n",
       "      <td>0</td>\n",
       "      <td>1</td>\n",
       "      <td>0</td>\n",
       "      <td>0</td>\n",
       "      <td>1</td>\n",
       "      <td>0</td>\n",
       "      <td>1</td>\n",
       "      <td>0</td>\n",
       "    </tr>\n",
       "    <tr>\n",
       "      <th>1</th>\n",
       "      <td>1</td>\n",
       "      <td>31000.0</td>\n",
       "      <td>82700</td>\n",
       "      <td>9000</td>\n",
       "      <td>0</td>\n",
       "      <td>0</td>\n",
       "      <td>0</td>\n",
       "      <td>1</td>\n",
       "      <td>0</td>\n",
       "      <td>1</td>\n",
       "      <td>0</td>\n",
       "      <td>0</td>\n",
       "      <td>0</td>\n",
       "    </tr>\n",
       "    <tr>\n",
       "      <th>2</th>\n",
       "      <td>1</td>\n",
       "      <td>82000.0</td>\n",
       "      <td>69000</td>\n",
       "      <td>210000</td>\n",
       "      <td>0</td>\n",
       "      <td>0</td>\n",
       "      <td>0</td>\n",
       "      <td>0</td>\n",
       "      <td>0</td>\n",
       "      <td>1</td>\n",
       "      <td>0</td>\n",
       "      <td>1</td>\n",
       "      <td>0</td>\n",
       "    </tr>\n",
       "    <tr>\n",
       "      <th>3</th>\n",
       "      <td>1</td>\n",
       "      <td>98000.0</td>\n",
       "      <td>82700</td>\n",
       "      <td>178000</td>\n",
       "      <td>0</td>\n",
       "      <td>0</td>\n",
       "      <td>1</td>\n",
       "      <td>0</td>\n",
       "      <td>0</td>\n",
       "      <td>1</td>\n",
       "      <td>0</td>\n",
       "      <td>0</td>\n",
       "      <td>1</td>\n",
       "    </tr>\n",
       "    <tr>\n",
       "      <th>4</th>\n",
       "      <td>1</td>\n",
       "      <td>83000.0</td>\n",
       "      <td>109000</td>\n",
       "      <td>200000</td>\n",
       "      <td>0</td>\n",
       "      <td>0</td>\n",
       "      <td>0</td>\n",
       "      <td>1</td>\n",
       "      <td>0</td>\n",
       "      <td>1</td>\n",
       "      <td>0</td>\n",
       "      <td>0</td>\n",
       "      <td>1</td>\n",
       "    </tr>\n",
       "  </tbody>\n",
       "</table>\n",
       "</div>"
      ],
      "text/plain": [
       "   action_taken  applicant_annual_income  locality_median_family_income  \\\n",
       "0             1                 121000.0                         109000   \n",
       "1             1                  31000.0                          82700   \n",
       "2             1                  82000.0                          69000   \n",
       "3             1                  98000.0                          82700   \n",
       "4             1                  83000.0                         109000   \n",
       "\n",
       "   loan_amount  agency_name_FDIC  agency_name_FRS  agency_name_HUD  \\\n",
       "0       232000                 0                0                1   \n",
       "1         9000                 0                0                0   \n",
       "2       210000                 0                0                0   \n",
       "3       178000                 0                0                1   \n",
       "4       200000                 0                0                0   \n",
       "\n",
       "   agency_name_NCUA  agency_name_OCC  \\\n",
       "0                 0                0   \n",
       "1                 1                0   \n",
       "2                 0                0   \n",
       "3                 0                0   \n",
       "4                 1                0   \n",
       "\n",
       "   lien_status_name_Secured by a first lien  \\\n",
       "0                                         1   \n",
       "1                                         1   \n",
       "2                                         1   \n",
       "3                                         1   \n",
       "4                                         1   \n",
       "\n",
       "   lien_status_name_Secured by a subordinate lien  \\\n",
       "0                                               0   \n",
       "1                                               0   \n",
       "2                                               0   \n",
       "3                                               0   \n",
       "4                                               0   \n",
       "\n",
       "   loan_purpose_name_Home purchase  loan_purpose_name_Refinancing  \n",
       "0                                1                              0  \n",
       "1                                0                              0  \n",
       "2                                1                              0  \n",
       "3                                0                              1  \n",
       "4                                0                              1  "
      ]
     },
     "execution_count": 48,
     "metadata": {},
     "output_type": "execute_result"
    }
   ],
   "source": [
    "# encoding the categorical columns\n",
    "\n",
    "df_encoded = pd.get_dummies(df,drop_first = True)\n",
    "df_encoded.head()"
   ]
  },
  {
   "cell_type": "code",
   "execution_count": 49,
   "metadata": {},
   "outputs": [
    {
     "data": {
      "text/plain": [
       "(1799, 13)"
      ]
     },
     "execution_count": 49,
     "metadata": {},
     "output_type": "execute_result"
    }
   ],
   "source": [
    "df_encoded.shape"
   ]
  },
  {
   "cell_type": "code",
   "execution_count": 50,
   "metadata": {},
   "outputs": [],
   "source": [
    "df_num = df.select_dtypes(include = np.number)"
   ]
  },
  {
   "cell_type": "code",
   "execution_count": 51,
   "metadata": {},
   "outputs": [],
   "source": [
    "# assigning the X and Y variables\n",
    "\n",
    "X = df_encoded.drop('action_taken',axis = 1)\n",
    "Y = df_encoded['action_taken']"
   ]
  },
  {
   "cell_type": "code",
   "execution_count": 52,
   "metadata": {},
   "outputs": [
    {
     "name": "stdout",
     "output_type": "stream",
     "text": [
      "0    1489\n",
      "1    1489\n",
      "Name: action_taken, dtype: int64\n"
     ]
    }
   ],
   "source": [
    "# since the data has imbalanced classes smote will be performed to give the calsss a equal weigthage\n",
    "\n",
    "smote = SMOTE(sampling_strategy='auto',random_state=1)\n",
    "X_new, Y_new = smote.fit_resample(X,Y)\n",
    "\n",
    "df_smote = pd.concat([X_new,Y_new])\n",
    "\n",
    "print(Y_new.value_counts().sort_index())"
   ]
  },
  {
   "cell_type": "markdown",
   "metadata": {},
   "source": [
    "the above values are the new values for the X and Y variables in a more balanced way."
   ]
  },
  {
   "cell_type": "code",
   "execution_count": 53,
   "metadata": {},
   "outputs": [],
   "source": [
    "#Performing scaling\n",
    "sc = StandardScaler()\n",
    "\n",
    "X_scaled = pd.DataFrame(sc.fit_transform(X_new),columns = X_new.columns)"
   ]
  },
  {
   "cell_type": "code",
   "execution_count": 54,
   "metadata": {},
   "outputs": [],
   "source": [
    "# adding constant as we aim to build a logistic regression model\n",
    "\n",
    "X_scaled = sma.add_constant(X_scaled)"
   ]
  },
  {
   "cell_type": "code",
   "execution_count": 63,
   "metadata": {},
   "outputs": [
    {
     "name": "stdout",
     "output_type": "stream",
     "text": [
      "(2084, 13)\n",
      "(894, 13)\n",
      "(2084,)\n",
      "(894,)\n"
     ]
    }
   ],
   "source": [
    "# performing train test split\n",
    "\n",
    "x_train,x_test,y_train,y_test = train_test_split(X_scaled,Y_new,test_size = 0.30,random_state = 1)\n",
    "print(x_train.shape)\n",
    "print(x_test.shape)\n",
    "print(y_train.shape)\n",
    "print(y_test.shape)"
   ]
  },
  {
   "cell_type": "markdown",
   "metadata": {},
   "source": [
    "performing statistical test of independence to determine the validity of the train and test data.\n",
    "\n",
    "- h0 : variables are significant\n",
    "- h1 : variables are insignificant\n",
    "\n",
    "alpha is 0.05"
   ]
  },
  {
   "cell_type": "code",
   "execution_count": 56,
   "metadata": {},
   "outputs": [
    {
     "data": {
      "text/plain": [
       "Ttest_indResult(statistic=array([ 54.56189146, -24.40081966, -24.40081966, -24.40081966,\n",
       "       -24.40081966, -24.40081966, -24.40081966, -24.40081966,\n",
       "       -24.40081966, -24.40081966, -24.40081966, -24.40081966,\n",
       "       -24.40081966]), pvalue=array([0.00000000e+000, 2.03452907e-125, 2.03452907e-125, 2.03452907e-125,\n",
       "       2.03452907e-125, 2.03452907e-125, 2.03452907e-125, 2.03452907e-125,\n",
       "       2.03452907e-125, 2.03452907e-125, 2.03452907e-125, 2.03452907e-125,\n",
       "       2.03452907e-125]))"
      ]
     },
     "execution_count": 56,
     "metadata": {},
     "output_type": "execute_result"
    }
   ],
   "source": [
    "stats.ttest_ind(X_scaled,Y_new)"
   ]
  },
  {
   "cell_type": "markdown",
   "metadata": {},
   "source": [
    "here pval displays a moderate relation of variables."
   ]
  },
  {
   "cell_type": "markdown",
   "metadata": {},
   "source": [
    "### 3. Model Building "
   ]
  },
  {
   "cell_type": "markdown",
   "metadata": {},
   "source": [
    "### Base Model :\n",
    "\n",
    "- A logistic Regression model will be built as our base model.\n",
    "- The model built from scipy library will help us find the significance of variables.\n",
    "- Themodel built using the scikit library will help us display the accuracy of the model built."
   ]
  },
  {
   "cell_type": "code",
   "execution_count": 57,
   "metadata": {},
   "outputs": [
    {
     "name": "stdout",
     "output_type": "stream",
     "text": [
      "Warning: Maximum number of iterations has been exceeded.\n",
      "         Current function value: 0.350822\n",
      "         Iterations: 35\n"
     ]
    },
    {
     "data": {
      "text/html": [
       "<table class=\"simpletable\">\n",
       "<caption>Logit Regression Results</caption>\n",
       "<tr>\n",
       "  <th>Dep. Variable:</th>     <td>action_taken</td>   <th>  No. Observations:  </th>   <td>  2084</td>  \n",
       "</tr>\n",
       "<tr>\n",
       "  <th>Model:</th>                 <td>Logit</td>      <th>  Df Residuals:      </th>   <td>  2071</td>  \n",
       "</tr>\n",
       "<tr>\n",
       "  <th>Method:</th>                 <td>MLE</td>       <th>  Df Model:          </th>   <td>    12</td>  \n",
       "</tr>\n",
       "<tr>\n",
       "  <th>Date:</th>            <td>Fri, 10 Mar 2023</td> <th>  Pseudo R-squ.:     </th>   <td>0.4939</td>  \n",
       "</tr>\n",
       "<tr>\n",
       "  <th>Time:</th>                <td>05:59:27</td>     <th>  Log-Likelihood:    </th>  <td> -731.11</td> \n",
       "</tr>\n",
       "<tr>\n",
       "  <th>converged:</th>             <td>False</td>      <th>  LL-Null:           </th>  <td> -1444.5</td> \n",
       "</tr>\n",
       "<tr>\n",
       "  <th>Covariance Type:</th>     <td>nonrobust</td>    <th>  LLR p-value:       </th> <td>2.357e-298</td>\n",
       "</tr>\n",
       "</table>\n",
       "<table class=\"simpletable\">\n",
       "<tr>\n",
       "                         <td></td>                           <th>coef</th>     <th>std err</th>      <th>z</th>      <th>P>|z|</th>  <th>[0.025</th>    <th>0.975]</th>  \n",
       "</tr>\n",
       "<tr>\n",
       "  <th>const</th>                                          <td>    0.9305</td> <td> 1014.125</td> <td>    0.001</td> <td> 0.999</td> <td>-1986.717</td> <td> 1988.578</td>\n",
       "</tr>\n",
       "<tr>\n",
       "  <th>applicant_annual_income</th>                        <td>    0.4040</td> <td>    0.081</td> <td>    5.012</td> <td> 0.000</td> <td>    0.246</td> <td>    0.562</td>\n",
       "</tr>\n",
       "<tr>\n",
       "  <th>locality_median_family_income</th>                  <td>    0.2939</td> <td>    0.069</td> <td>    4.265</td> <td> 0.000</td> <td>    0.159</td> <td>    0.429</td>\n",
       "</tr>\n",
       "<tr>\n",
       "  <th>loan_amount</th>                                    <td>    0.2676</td> <td>    0.090</td> <td>    2.959</td> <td> 0.003</td> <td>    0.090</td> <td>    0.445</td>\n",
       "</tr>\n",
       "<tr>\n",
       "  <th>agency_name_FDIC</th>                               <td>    5.4564</td> <td> 4746.677</td> <td>    0.001</td> <td> 0.999</td> <td>-9297.859</td> <td> 9308.771</td>\n",
       "</tr>\n",
       "<tr>\n",
       "  <th>agency_name_FRS</th>                                <td>    0.3437</td> <td>    0.070</td> <td>    4.912</td> <td> 0.000</td> <td>    0.207</td> <td>    0.481</td>\n",
       "</tr>\n",
       "<tr>\n",
       "  <th>agency_name_HUD</th>                                <td>    0.2651</td> <td>    0.065</td> <td>    4.060</td> <td> 0.000</td> <td>    0.137</td> <td>    0.393</td>\n",
       "</tr>\n",
       "<tr>\n",
       "  <th>agency_name_NCUA</th>                               <td>    0.9414</td> <td>    0.084</td> <td>   11.180</td> <td> 0.000</td> <td>    0.776</td> <td>    1.106</td>\n",
       "</tr>\n",
       "<tr>\n",
       "  <th>agency_name_OCC</th>                                <td>    0.3797</td> <td>    0.087</td> <td>    4.348</td> <td> 0.000</td> <td>    0.209</td> <td>    0.551</td>\n",
       "</tr>\n",
       "<tr>\n",
       "  <th>lien_status_name_Secured by a first lien</th>       <td>    0.5069</td> <td>    0.166</td> <td>    3.054</td> <td> 0.002</td> <td>    0.182</td> <td>    0.832</td>\n",
       "</tr>\n",
       "<tr>\n",
       "  <th>lien_status_name_Secured by a subordinate lien</th> <td>    0.8934</td> <td>    0.132</td> <td>    6.788</td> <td> 0.000</td> <td>    0.635</td> <td>    1.151</td>\n",
       "</tr>\n",
       "<tr>\n",
       "  <th>loan_purpose_name_Home purchase</th>                <td>    1.6208</td> <td>    0.113</td> <td>   14.355</td> <td> 0.000</td> <td>    1.400</td> <td>    1.842</td>\n",
       "</tr>\n",
       "<tr>\n",
       "  <th>loan_purpose_name_Refinancing</th>                  <td>    0.6135</td> <td>    0.107</td> <td>    5.732</td> <td> 0.000</td> <td>    0.404</td> <td>    0.823</td>\n",
       "</tr>\n",
       "</table>"
      ],
      "text/plain": [
       "<class 'statsmodels.iolib.summary.Summary'>\n",
       "\"\"\"\n",
       "                           Logit Regression Results                           \n",
       "==============================================================================\n",
       "Dep. Variable:           action_taken   No. Observations:                 2084\n",
       "Model:                          Logit   Df Residuals:                     2071\n",
       "Method:                           MLE   Df Model:                           12\n",
       "Date:                Fri, 10 Mar 2023   Pseudo R-squ.:                  0.4939\n",
       "Time:                        05:59:27   Log-Likelihood:                -731.11\n",
       "converged:                      False   LL-Null:                       -1444.5\n",
       "Covariance Type:            nonrobust   LLR p-value:                2.357e-298\n",
       "==================================================================================================================\n",
       "                                                     coef    std err          z      P>|z|      [0.025      0.975]\n",
       "------------------------------------------------------------------------------------------------------------------\n",
       "const                                              0.9305   1014.125      0.001      0.999   -1986.717    1988.578\n",
       "applicant_annual_income                            0.4040      0.081      5.012      0.000       0.246       0.562\n",
       "locality_median_family_income                      0.2939      0.069      4.265      0.000       0.159       0.429\n",
       "loan_amount                                        0.2676      0.090      2.959      0.003       0.090       0.445\n",
       "agency_name_FDIC                                   5.4564   4746.677      0.001      0.999   -9297.859    9308.771\n",
       "agency_name_FRS                                    0.3437      0.070      4.912      0.000       0.207       0.481\n",
       "agency_name_HUD                                    0.2651      0.065      4.060      0.000       0.137       0.393\n",
       "agency_name_NCUA                                   0.9414      0.084     11.180      0.000       0.776       1.106\n",
       "agency_name_OCC                                    0.3797      0.087      4.348      0.000       0.209       0.551\n",
       "lien_status_name_Secured by a first lien           0.5069      0.166      3.054      0.002       0.182       0.832\n",
       "lien_status_name_Secured by a subordinate lien     0.8934      0.132      6.788      0.000       0.635       1.151\n",
       "loan_purpose_name_Home purchase                    1.6208      0.113     14.355      0.000       1.400       1.842\n",
       "loan_purpose_name_Refinancing                      0.6135      0.107      5.732      0.000       0.404       0.823\n",
       "==================================================================================================================\n",
       "\"\"\""
      ]
     },
     "execution_count": 57,
     "metadata": {},
     "output_type": "execute_result"
    }
   ],
   "source": [
    "lr_base = sma.Logit(y_train,x_train).fit()\n",
    "lr_base.summary()"
   ]
  },
  {
   "cell_type": "markdown",
   "metadata": {},
   "source": [
    "- The model was selected after 35 iterations\n",
    "- applicant_annual_income,locality_median_family_income, lien_status_name_Secured by a subordinate lien, lien_status_name_Secured by a first lien,agency fdic and ncua show a probability of having higher outcome with relation to target variable.\n",
    "- all the other column show a decent probability of having a outcome with relation to the target_variable"
   ]
  },
  {
   "cell_type": "code",
   "execution_count": 58,
   "metadata": {},
   "outputs": [],
   "source": [
    "lr = LogisticRegression(random_state=1)\n",
    "lr_model = lr.fit(x_train,y_train)\n",
    "\n",
    "trainpred_lr = lr_model.predict(x_train)\n",
    "testpred_lr = lr_model.predict(x_test)\n",
    "prob = lr_model.predict_proba(x_test)\n",
    "pred_prob_lr = prob[:,1]"
   ]
  },
  {
   "cell_type": "code",
   "execution_count": 59,
   "metadata": {},
   "outputs": [
    {
     "name": "stdout",
     "output_type": "stream",
     "text": [
      "              precision    recall  f1-score   support\n",
      "\n",
      "           0       0.86      0.83      0.84      1047\n",
      "           1       0.83      0.86      0.85      1037\n",
      "\n",
      "    accuracy                           0.84      2084\n",
      "   macro avg       0.84      0.84      0.84      2084\n",
      "weighted avg       0.84      0.84      0.84      2084\n",
      "\n",
      "              precision    recall  f1-score   support\n",
      "\n",
      "           0       0.83      0.81      0.82       442\n",
      "           1       0.82      0.84      0.83       452\n",
      "\n",
      "    accuracy                           0.82       894\n",
      "   macro avg       0.82      0.82      0.82       894\n",
      "weighted avg       0.82      0.82      0.82       894\n",
      "\n"
     ]
    }
   ],
   "source": [
    "print(classification_report(y_train,trainpred_lr))\n",
    "print(classification_report(y_test,testpred_lr))"
   ]
  },
  {
   "cell_type": "markdown",
   "metadata": {},
   "source": [
    "- here the training data is higher than test data accuracy score by a moderate number.\n",
    "- The pecision between classes 0 with respect to 1 display a lower difference. This can show that the probability of the loan being rejected is comparatively lesser.  \n",
    "- In this case it can be said the model is a overfit."
   ]
  },
  {
   "cell_type": "code",
   "execution_count": 62,
   "metadata": {},
   "outputs": [],
   "source": [
    "# before moving onto the next model building, the data will be resplitted as certain columns do not requiure scaling done to them\n",
    "xtrain,xtest,ytrain,ytest = train_test_split(X_new,Y_new,test_size = 0.30,random_state = 1)"
   ]
  },
  {
   "cell_type": "markdown",
   "metadata": {},
   "source": [
    "### ADA boost model :\n",
    "\n",
    "A boosting model will help us set a number of estimators that might help us get an accuracy that we desire, after the model get's iterated for multpile times.\n",
    "\n",
    "The number of iterations will give us the model with the best , most feasible results.\n"
   ]
  },
  {
   "cell_type": "code",
   "execution_count": 64,
   "metadata": {},
   "outputs": [],
   "source": [
    "ada_model = AdaBoostClassifier(n_estimators=10,random_state=1)\n",
    "\n",
    "ada_model.fit(xtrain,ytrain)\n",
    "\n",
    "trainpred_ada = ada_model.predict(xtrain)\n",
    "testpred_ada = ada_model.predict(xtest)\n",
    "prob = ada_model.predict_proba(xtest)\n",
    "pred_prob_ada = prob[:,1]"
   ]
  },
  {
   "cell_type": "code",
   "execution_count": 65,
   "metadata": {},
   "outputs": [
    {
     "name": "stdout",
     "output_type": "stream",
     "text": [
      "              precision    recall  f1-score   support\n",
      "\n",
      "           0       0.80      0.93      0.86      1047\n",
      "           1       0.91      0.76      0.83      1037\n",
      "\n",
      "    accuracy                           0.84      2084\n",
      "   macro avg       0.85      0.84      0.84      2084\n",
      "weighted avg       0.85      0.84      0.84      2084\n",
      "\n",
      "              precision    recall  f1-score   support\n",
      "\n",
      "           0       0.78      0.91      0.84       442\n",
      "           1       0.89      0.75      0.81       452\n",
      "\n",
      "    accuracy                           0.83       894\n",
      "   macro avg       0.84      0.83      0.83       894\n",
      "weighted avg       0.84      0.83      0.83       894\n",
      "\n"
     ]
    }
   ],
   "source": [
    "print(classification_report(ytrain,trainpred_ada))\n",
    "print(classification_report(ytest,testpred_ada))"
   ]
  },
  {
   "cell_type": "markdown",
   "metadata": {},
   "source": [
    "- here the accuracy score of training data and testing data does not have a much of a difference.\n",
    "- Hence in this case, it can be said that the model is overfit"
   ]
  },
  {
   "cell_type": "markdown",
   "metadata": {},
   "source": [
    "### Decision Tree Model :\n",
    "\n",
    "Since the above models have been giving almost overfit model conditions, it seems there is a need for hyper parameter tuning to build a good model.\n",
    "\n",
    "Decision tree helps us with finding the best parameters that can be utilised to build a model with the help of gridsearch cv"
   ]
  },
  {
   "cell_type": "code",
   "execution_count": 67,
   "metadata": {},
   "outputs": [
    {
     "data": {
      "text/plain": [
       "{'criterion': 'entropy',\n",
       " 'max_depth': 4,\n",
       " 'max_features': 'sqrt',\n",
       " 'min_samples_split': 4}"
      ]
     },
     "execution_count": 67,
     "metadata": {},
     "output_type": "execute_result"
    }
   ],
   "source": [
    "dt = DecisionTreeClassifier()\n",
    "\n",
    "dt_params = [{'criterion':['entropy','gini'],\n",
    "             'max_features':['sqrt','log2'],\n",
    "             'max_depth':range(2,5),\n",
    "             'min_samples_split':range(2,5)}]\n",
    "\n",
    "dt_grid = GridSearchCV(estimator = dt, param_grid = dt_params,cv = 3)\n",
    "\n",
    "dt_grid.fit(xtrain,ytrain)\n",
    "\n",
    "dt_grid.best_params_"
   ]
  },
  {
   "cell_type": "code",
   "execution_count": 68,
   "metadata": {},
   "outputs": [],
   "source": [
    "dt_model = DecisionTreeClassifier(criterion = dt_grid.best_params_.get('criterion'),\n",
    "                                 max_features = dt_grid.best_params_.get('max_features'),\n",
    "                                 max_depth = dt_grid.best_params_.get('max_depth'),\n",
    "                                 min_samples_split=dt_grid.best_params_.get('min_samples_split'),\n",
    "                                 random_state = 1)\n",
    "dt_model.fit(xtrain,ytrain)\n",
    "\n",
    "trainpred_dt = dt_model.predict(xtrain)\n",
    "testpred_dt = dt_model.predict(xtest)\n",
    "prob = dt_model.predict_proba(xtest)\n",
    "pred_prob_dt = prob[:,1]"
   ]
  },
  {
   "cell_type": "code",
   "execution_count": 69,
   "metadata": {},
   "outputs": [
    {
     "name": "stdout",
     "output_type": "stream",
     "text": [
      "              precision    recall  f1-score   support\n",
      "\n",
      "           0       0.92      0.53      0.67      1047\n",
      "           1       0.67      0.95      0.78      1037\n",
      "\n",
      "    accuracy                           0.74      2084\n",
      "   macro avg       0.79      0.74      0.73      2084\n",
      "weighted avg       0.79      0.74      0.73      2084\n",
      "\n",
      "              precision    recall  f1-score   support\n",
      "\n",
      "           0       0.89      0.53      0.67       442\n",
      "           1       0.67      0.94      0.78       452\n",
      "\n",
      "    accuracy                           0.74       894\n",
      "   macro avg       0.78      0.73      0.72       894\n",
      "weighted avg       0.78      0.74      0.73       894\n",
      "\n"
     ]
    }
   ],
   "source": [
    "print(classification_report(ytrain,trainpred_dt))\n",
    "print(classification_report(ytest,testpred_dt))"
   ]
  },
  {
   "cell_type": "markdown",
   "metadata": {},
   "source": [
    "- Here the model is overfit as the accuracy score of training data and test data is same."
   ]
  },
  {
   "cell_type": "code",
   "execution_count": 73,
   "metadata": {},
   "outputs": [
    {
     "data": {
      "image/png": "[encoded data removed]",
      "text/plain": [
       "<Figure size 1800x1296 with 1 Axes>"
      ]
     },
     "metadata": {
      "needs_background": "light"
     },
     "output_type": "display_data"
    }
   ],
   "source": [
    "# plotting roc_auc_score plot\n",
    "\n",
    "fpr,tpr,thresholds = roc_curve(ytest,pred_prob_lr)\n",
    "plt.plot(fpr,tpr,color = 'green',label = 'Logistic Regression')\n",
    "\n",
    "fpr,tpr,thresholds = roc_curve(ytest,pred_prob_ada)\n",
    "plt.plot(fpr,tpr,color = 'blue',label = 'ADA boost')\n",
    "\n",
    "fpr,tpr,thresholds = roc_curve(ytest,pred_prob_dt)\n",
    "plt.plot(fpr,tpr,color = 'orange',label = 'Decision tree')\n",
    "\n",
    "plt.xlim([0.0,1.0])\n",
    "plt.ylim([0.0,1.0])\n",
    "\n",
    "plt.plot([0,1],[0,1],'r--')\n",
    "\n",
    "auc_lr = round(roc_auc_score(ytest,pred_prob_lr),4)\n",
    "plt.text(x = 0.6,y = 0.4,s = ('AUC Score of Logistic regression :',auc_lr))\n",
    "\n",
    "auc_ada = round(roc_auc_score(ytest,pred_prob_ada),4)\n",
    "plt.text(x = 0.6,y = 0.3,s = ('AUC Score of ADA boost :',auc_ada))\n",
    "\n",
    "auc_dt = round(roc_auc_score(ytest,pred_prob_dt),4)\n",
    "plt.text(x = 0.6,y = 0.2,s = ('AUC Score of Decision Tree :',auc_dt))\n",
    "\n",
    "plt.xlabel('FPR')\n",
    "plt.ylabel('TPR')\n",
    "plt.legend()\n",
    "plt.grid()\n",
    "plt.show()"
   ]
  },
  {
   "cell_type": "markdown",
   "metadata": {},
   "source": [
    "### Business interpretation :\n",
    "\n",
    "- Here looking at the roc curve of the models built, ADA boost and logistic regression are covering somewhat similar area under the curve.\n",
    "\n",
    "- We will select logistic regression model as our best model as it showcases a good performance and has better accuracy score and auc score as well.\n",
    "\n",
    "- applicant_annual_income,locality_median_family_income, lien_status_name_Secured by a subordinate lien, lien_status_name_Secured by a first lien,agency fdic and ncua show a probability of having higher outcome with relation to target variable. These columns can be considered, and targeted in orfer too reach maximum business solutions.The above variables show that the first and subordinate lien status have a higher probability rate to detrermine the loan action taken alongwith loan purpose given. an approval of that status can be considered as a prominent indicator for making a decision for the applicant's loan application.\n",
    "\n",
    "- As observed The logistic regression model performs well as per the parametrics as well as aligns with the variables that play key roles. Hence logistic regression model is being considered as a first choice for being a goodfit model for our business problem.\n"
   ]
  },
  {
   "cell_type": "code",
   "execution_count": null,
   "metadata": {},
   "outputs": [],
   "source": []
  }
 ],
 "metadata": {
  "kernelspec": {
   "display_name": "Python 3 (ipykernel)",
   "language": "python",
   "name": "python3"
  },
  "language_info": {
   "codemirror_mode": {
    "name": "ipython",
    "version": 3
   },
   "file_extension": ".py",
   "mimetype": "text/x-python",
   "name": "python",
   "nbconvert_exporter": "python",
   "pygments_lexer": "ipython3",
   "version": "3.9.12"
  }
 },
 "nbformat": 4,
 "nbformat_minor": 4
}
